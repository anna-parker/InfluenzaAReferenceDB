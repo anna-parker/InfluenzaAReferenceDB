{
 "cells": [
  {
   "cell_type": "markdown",
   "metadata": {},
   "source": [
    "## Quality Assessment"
   ]
  },
  {
   "cell_type": "markdown",
   "metadata": {},
   "source": [
    "Using only the recent nextclade references for Yamagata and Victoria, older strains only slightly favor their lineage over the other lineage: \n",
    "```\n",
    "162433\tCY018765.1 Influenza B virus (B/Yamagata/16/1988) segment 4, complete sequence\tseg4_yam\t0.5842822215369322\t502\n",
    "162433\tCY018765.1 Influenza B virus (B/Yamagata/16/1988) segment 4, complete sequence\tseg4_vic\t0.41565415358681823\t370\n",
    "493\tX13553.1 Influenza B virus HA gene for haemagglutinin precursor, strain B/B/Victoria/3/85\tseg4_vic\t0.41837826600792244\t370\n",
    "493\tX13553.1 Influenza B virus HA gene for haemagglutinin precursor, strain B/B/Victoria/3/85\tseg4_yam\t0.4041802058080461\t345\n",
    "```\n",
    "Additionally, the split between yam and vic in segment 4 (HA) is not very clean as can be seen from the auspice config - leading me to believe lineage assignment using nextclade sort is probably not accurate enough to rely on."
   ]
  },
  {
   "cell_type": "markdown",
   "metadata": {},
   "source": [
    "However, it appears that segment identification does work as intended, only segments 1 and 2 are sometimes switched in the data - but of the few instances where this happens, e.g. LC720259.1 - we can see this was a submission error. It is also interesting that in NCBI terminology segment1 in influenza B is pb1, but segment1 in influenza A is pb2. I keep this assignment when creating my datasets."
   ]
  },
  {
   "cell_type": "code",
   "execution_count": 6,
   "metadata": {},
   "outputs": [],
   "source": [
    "import pandas as pd\n",
    "\n",
    "# Load the TSV file\n",
    "file_path = 'sort_results.tsv'\n",
    "df = pd.read_csv(file_path, sep='\\t')\n",
    "df = df.astype({'index':'int'})\n",
    "\n",
    "df = df.dropna(subset=['score'])\n",
    "\n",
    "sorted_fasta_ids = set([l.split(' ')[0] for l in df['seqName'].tolist()])"
   ]
  },
  {
   "cell_type": "code",
   "execution_count": 15,
   "metadata": {},
   "outputs": [
    {
     "name": "stdout",
     "output_type": "stream",
     "text": [
      "Number of sequences <22bp: 1223\n",
      "Total number of missing sequences >=21bp: 408\n"
     ]
    }
   ],
   "source": [
    "from Bio import SeqIO\n",
    "\n",
    "# Extract IDs from input FASTA\n",
    "missing_fasta_ids = []\n",
    "number_under_22 = 0\n",
    "total_missing_over = 0\n",
    "\n",
    "for record in SeqIO.parse(\"ncbi_dataset/data/genomic.fna\", \"fasta\"):\n",
    "    if record.id not in sorted_fasta_ids:\n",
    "        if len(record.seq) < 22:\n",
    "            number_under_22 += 1\n",
    "            continue\n",
    "        missing_fasta_ids.append({\"id\":record.id, \"description\": record.description, \"length\":len(record.seq)})\n",
    "        total_missing_over += 1\n",
    "\n",
    "missing_fasta_ids = pd.DataFrame(missing_fasta_ids)\n",
    "missing_fasta_ids.to_csv(\"missing_fasta_ids.tsv\", sep='\\t', index=False)\n",
    "print(f\"Number of sequences <22bp: {number_under_22}\")\n",
    "print(f\"Total number of missing sequences >=21bp: {total_missing_over}\")"
   ]
  },
  {
   "cell_type": "markdown",
   "metadata": {},
   "source": [
    "of these the majority are under 60bp, leaving only the following sequences that might be of interest: "
   ]
  },
  {
   "cell_type": "markdown",
   "metadata": {},
   "source": [
    "- OY757903.1\tOY757903.1 Influenza B virus isolate DW-RAT-183 genome assembly, segment: 5\t2247\n",
    "- OZ035285.1\tOZ035285.1 Influenza B virus isolate DW-RAT-352 genome assembly, chromosome: 1\t2309\n",
    "- OZ035383.1\tOZ035383.1 Influenza B virus isolate DW-RAT-349 genome assembly, chromosome: 1\t2309\n",
    "- OZ035475.1\tOZ035475.1 Influenza B virus isolate DW-RAT-356 genome assembly, segment: 1\t2313\n",
    "- OZ035476.1\tOZ035476.1 Influenza B virus isolate DW-RAT-356 genome assembly, segment: 2\t2001\n",
    "- OZ035477.1\tOZ035477.1 Influenza B virus isolate DW-RAT-356 genome assembly, segment: 3\t1589\n",
    "- OZ035478.1\tOZ035478.1 Influenza B virus isolate DW-RAT-356 genome assembly, segment: 4\t1625\n",
    "- OZ035479.1\tOZ035479.1 Influenza B virus isolate DW-RAT-356 genome assembly, segment: 5\t1487\n",
    "- OZ035480.1\tOZ035480.1 Influenza B virus isolate DW-RAT-356 genome assembly, segment: 6\t2337\n",
    "- OZ211326.1\tOZ211326.1 Influenza B virus (B/Brisbane/60/2008) isolate Respiratory swabs genome assembly, segment: KC866605.1\t1844\n",
    "- OZ211328.1\tOZ211328.1 Influenza B virus (B/Brisbane/60/2008) isolate Respiratory swabs genome assembly, segment: KC866607.1\t1189\n",
    "- OZ211393.1\tOZ211393.1 Influenza B virus (B/Brisbane/60/2008) isolate Respiratory swabs genome assembly, segment: KC866605.1\t1844\n",
    "- OZ211395.1\tOZ211395.1 Influenza B virus (B/Brisbane/60/2008) isolate Respiratory swabs genome assembly, segment: KC866607.1\t1189\n",
    "- OY757748.1\tOY757748.1 Influenza B virus isolate DW-RAT-127 genome assembly, segment: 5\t1500\n",
    "- OY757749.1\tOY757749.1 Influenza B virus isolate DW-RAT-127 genome assembly, segment: 6\t1761\n",
    "- ON845594.1\tON845594.1 Influenza B virus (B/Greece/def2/2022) segment 4 hemagglutinin (HA) gene, complete cds\t1701\n",
    "- ON845595.1\tON845595.1 Influenza B virus (B/Argentina/def2/2022) segment 7 matrix protein 2 (M2) and matrix protein 1 (M1) genes, complete cds\t982\n",
    "- ON845596.1\tON845596.1 Influenza B virus (B/swine/Bangladesh/57BC/2022) segment 6 neuraminidase (NA) gene, complete cds\t1410\n",
    "- GU064893.1\tGU064893.1 Influenza B virus (B/Shanghai/N37/2008) segment 6 neuraminidase (NA) gene, partial cds\t251"
   ]
  }
 ],
 "metadata": {
  "kernelspec": {
   "display_name": "influenza-db",
   "language": "python",
   "name": "python3"
  },
  "language_info": {
   "codemirror_mode": {
    "name": "ipython",
    "version": 3
   },
   "file_extension": ".py",
   "mimetype": "text/x-python",
   "name": "python",
   "nbconvert_exporter": "python",
   "pygments_lexer": "ipython3",
   "version": "3.12.9"
  }
 },
 "nbformat": 4,
 "nbformat_minor": 2
}
